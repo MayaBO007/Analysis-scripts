{
  "nbformat": 4,
  "nbformat_minor": 0,
  "metadata": {
    "colab": {
      "provenance": [],
      "authorship_tag": "ABX9TyMjYvLx3gPU3hAU1eCEST/w",
      "include_colab_link": true
    },
    "kernelspec": {
      "name": "python3",
      "display_name": "Python 3"
    },
    "language_info": {
      "name": "python"
    }
  },
  "cells": [
    {
      "cell_type": "markdown",
      "metadata": {
        "id": "view-in-github",
        "colab_type": "text"
      },
      "source": [
        "<a href=\"https://colab.research.google.com/github/MayaBO007/Analysis-scripts/blob/main/update_subs_info.ipynb\" target=\"_parent\"><img src=\"https://colab.research.google.com/assets/colab-badge.svg\" alt=\"Open In Colab\"/></a>"
      ]
    },
    {
      "cell_type": "code",
      "execution_count": null,
      "metadata": {
        "id": "nXqErxXSwo5S"
      },
      "outputs": [],
      "source": [
        "import gspread\n",
        "from google.colab import auth\n",
        "from oauth2client.client import GoogleCredentials\n",
        "import json\n",
        "\n",
        "# Authenticate and create client\n",
        "auth.authenticate_user()\n",
        "credentials = GoogleCredentials.get_application_default()\n",
        "client = gspread.authorize(credentials)\n",
        "\n",
        "# Open the Google Sheet\n",
        "sheet = client.open(\"subjects_info\").sheet1\n",
        "\n",
        "# Create a list to store batch update requests\n",
        "batch_update = []\n",
        "\n",
        "# Get the values from the \"WorkerId\" column\n",
        "worker_ids = sheet.col_values(1)\n",
        "\n",
        "# Iterate over the WorkerIds and update the corresponding columns\n",
        "# Start from row 2 (skip header row)\n",
        "for row_index, worker_id in enumerate(worker_ids[1:], start=2):\n",
        "    # Check if WorkerId exists\n",
        "    if worker_id:\n",
        "        # Open the JSON file\n",
        "        filename = f\"results({10}).json\"  # Update the filename accordingly\n",
        "        with open(filename, \"r\") as json_file:\n",
        "            data_list = json.load(json_file)\n",
        "\n",
        "            for data in data_list:\n",
        "                # Check if \"worker_id\" and \"doneTest2\" match the condition\n",
        "                if data.get(\"worker_id\") == worker_id and data.get(\"doneTest2\") == \"doneTest2\":\n",
        "                    # Update \"isExperimentDone?\" column to 1\n",
        "                    batch_update.append({\n",
        "                        'range': f'E{row_index}',\n",
        "                        'values': [['1']]\n",
        "                    })\n",
        "                    # Check if \"totalBlues\" and \"totalReds\" exist and are not empty\n",
        "                    if \"totalBlues\" in data and data[\"totalBlues\"]:\n",
        "                        total_blues = int(data[\"totalBlues\"])\n",
        "                    else:\n",
        "                        total_blues = 0\n",
        "\n",
        "                    if \"totalReds\" in data and data[\"totalReds\"]:\n",
        "                        total_reds = int(data[\"totalReds\"])\n",
        "                    else:\n",
        "                        total_reds = 0\n",
        "\n",
        "                    # Calculate the sum of \"totalBlues\" and \"totalReds\"\n",
        "                    total_wins = total_blues + total_reds\n",
        "\n",
        "                    # Update \"totalWins\" column\n",
        "                    batch_update.append({\n",
        "                        'range': f'F{row_index}',\n",
        "                        'values': [[str(total_wins)]]\n",
        "                    })\n",
        "\n",
        "# Perform the batch update\n",
        "if batch_update:\n",
        "    request_body = {\n",
        "        'requests': [{'updateCells': {'rows': batch_update}}]\n",
        "    }\n",
        "    sheet.batch_update(request_body)\n"
      ]
    }
  ]
}